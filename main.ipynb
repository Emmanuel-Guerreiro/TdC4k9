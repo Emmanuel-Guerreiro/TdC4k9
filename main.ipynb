{
 "cells": [
  {
   "cell_type": "code",
   "execution_count": 24,
   "metadata": {},
   "outputs": [],
   "source": [
    "import sympy"
   ]
  },
  {
   "cell_type": "code",
   "execution_count": 35,
   "metadata": {},
   "outputs": [],
   "source": [
    "#Defino todos los coeficientes del sistema\n",
    "#que conforman a la matriz A\n",
    "a,b,c,d,e,f,g,h,i = sympy.symbols(\"a,b,c,d,e,f,g,h,i\")\n",
    "#La variable de laplace\n",
    "s = sympy.symbols(\"s\")\n",
    "#Las 3 matrices que representan al sistema en forma \n",
    "#de control\n",
    "A = sympy.Matrix([[a,b,c], [d,e,f], [g,h,i]])\n",
    "B = sympy.Matrix([[0],[0],[1]])\n",
    "# No se bien porque sympy arma a C como una matrix de 3x1\n",
    "# Si la transpongo la convierte en una fila y queda bien representado\n",
    "# El sistema\n",
    "C = sympy.Matrix([1,0,0]).T"
   ]
  },
  {
   "cell_type": "code",
   "execution_count": 14,
   "metadata": {},
   "outputs": [],
   "source": [
    "# H(s) = C (sI - A)**-1 B + D\n",
    "temp = s * sympy.eye(3) - A\n",
    "inv = temp.inv()"
   ]
  },
  {
   "cell_type": "code",
   "execution_count": 41,
   "metadata": {},
   "outputs": [
    {
     "name": "stdout",
     "output_type": "stream",
     "text": [
      "(b*f - c*e + c*s)/(-a*e*i + a*e*s + a*f*h + a*i*s - a*s**2 + b*d*i - b*d*s - b*f*g - c*d*h + c*e*g - c*g*s + e*i*s - e*s**2 - f*h*s - i*s**2 + s**3)\n"
     ]
    }
   ],
   "source": [
    "temp = C * inv \n",
    "H = temp * B\n",
    "\n",
    "\n",
    "expr = H[0]\n",
    "print(expr)\n",
    "\n",
    "\n"
   ]
  },
  {
   "cell_type": "code",
   "execution_count": 56,
   "metadata": {},
   "outputs": [],
   "source": [
    "## Forma de control\n",
    "#Es deducida directamente desde los terminos de la funcion\n",
    "\n",
    "\n",
    "A_ctrl = sympy.Matrix([[0,1,0], [0,0,1], [b*d*i-b*f*g-c*d*h+c*e*g, a*e+a*i-b*d+c*g+e*i,a+e+i]])\n",
    "B_ctrl = sympy.Matrix([[0], [0], [1]])\n",
    "C_ctrl = sympy.Matrix([b*f-c*e,c,0]).T"
   ]
  },
  {
   "cell_type": "code",
   "execution_count": 53,
   "metadata": {},
   "outputs": [
    {
     "data": {
      "text/latex": [
       "$\\displaystyle \\left[\\begin{matrix}0 & 1 & 0\\\\0 & 0 & 1\\\\b d i - b f g - c d h + c e g & a e + a i - b d + c g + e i & a + e + i\\end{matrix}\\right]$"
      ],
      "text/plain": [
       "Matrix([\n",
       "[                            0,                           1,         0],\n",
       "[                            0,                           0,         1],\n",
       "[b*d*i - b*f*g - c*d*h + c*e*g, a*e + a*i - b*d + c*g + e*i, a + e + i]])"
      ]
     },
     "execution_count": 53,
     "metadata": {},
     "output_type": "execute_result"
    }
   ],
   "source": [
    "A_ctrl"
   ]
  },
  {
   "cell_type": "code",
   "execution_count": 54,
   "metadata": {},
   "outputs": [
    {
     "data": {
      "text/latex": [
       "$\\displaystyle \\left[\\begin{matrix}0\\\\0\\\\1\\end{matrix}\\right]$"
      ],
      "text/plain": [
       "Matrix([\n",
       "[0],\n",
       "[0],\n",
       "[1]])"
      ]
     },
     "execution_count": 54,
     "metadata": {},
     "output_type": "execute_result"
    }
   ],
   "source": [
    "B_ctrl"
   ]
  },
  {
   "cell_type": "code",
   "execution_count": 57,
   "metadata": {},
   "outputs": [
    {
     "data": {
      "text/latex": [
       "$\\displaystyle \\left[\\begin{matrix}b f - c e & c & 0\\end{matrix}\\right]$"
      ],
      "text/plain": [
       "Matrix([[b*f - c*e, c, 0]])"
      ]
     },
     "execution_count": 57,
     "metadata": {},
     "output_type": "execute_result"
    }
   ],
   "source": [
    "C_ctrl"
   ]
  },
  {
   "cell_type": "code",
   "execution_count": 58,
   "metadata": {},
   "outputs": [],
   "source": [
    "## Forma observable\n",
    "# Transponemos el A de control e intercambiamos B y C de control\n",
    "import copy\n",
    "\n",
    "A_obs = copy.deepcopy(A_ctrl).T\n",
    "B_obs = copy.deepcopy(C_ctrl)\n",
    "C_obs = copy.deepcopy(B_ctrl).T\n"
   ]
  },
  {
   "cell_type": "code",
   "execution_count": 50,
   "metadata": {},
   "outputs": [
    {
     "data": {
      "text/latex": [
       "$\\displaystyle \\left[\\begin{matrix}0 & 0 & b d i - b f g - c d h + c e g\\\\1 & 0 & a e + a i - b d + c g + e i\\\\0 & 1 & a + e + i\\end{matrix}\\right]$"
      ],
      "text/plain": [
       "Matrix([\n",
       "[0, 0, b*d*i - b*f*g - c*d*h + c*e*g],\n",
       "[1, 0,   a*e + a*i - b*d + c*g + e*i],\n",
       "[0, 1,                     a + e + i]])"
      ]
     },
     "execution_count": 50,
     "metadata": {},
     "output_type": "execute_result"
    }
   ],
   "source": [
    "A_obs"
   ]
  },
  {
   "cell_type": "code",
   "execution_count": 51,
   "metadata": {},
   "outputs": [
    {
     "data": {
      "text/latex": [
       "$\\displaystyle \\left[\\begin{matrix}b f - c e\\\\c\\\\0\\end{matrix}\\right]$"
      ],
      "text/plain": [
       "Matrix([\n",
       "[b*f - c*e],\n",
       "[        c],\n",
       "[        0]])"
      ]
     },
     "execution_count": 51,
     "metadata": {},
     "output_type": "execute_result"
    }
   ],
   "source": [
    "B_obs"
   ]
  },
  {
   "cell_type": "code",
   "execution_count": 59,
   "metadata": {},
   "outputs": [
    {
     "data": {
      "text/latex": [
       "$\\displaystyle \\left[\\begin{matrix}0 & 0 & 1\\end{matrix}\\right]$"
      ],
      "text/plain": [
       "Matrix([[0, 0, 1]])"
      ]
     },
     "execution_count": 59,
     "metadata": {},
     "output_type": "execute_result"
    }
   ],
   "source": [
    "C_obs"
   ]
  }
 ],
 "metadata": {
  "kernelspec": {
   "display_name": "Python 3",
   "language": "python",
   "name": "python3"
  },
  "language_info": {
   "codemirror_mode": {
    "name": "ipython",
    "version": 3
   },
   "file_extension": ".py",
   "mimetype": "text/x-python",
   "name": "python",
   "nbconvert_exporter": "python",
   "pygments_lexer": "ipython3",
   "version": "3.8.10"
  },
  "orig_nbformat": 4
 },
 "nbformat": 4,
 "nbformat_minor": 2
}
