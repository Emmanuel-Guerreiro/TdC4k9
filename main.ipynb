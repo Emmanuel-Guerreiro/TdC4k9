{
 "cells": [
  {
   "cell_type": "code",
   "execution_count": 16,
   "metadata": {},
   "outputs": [],
   "source": [
    "import sympy"
   ]
  },
  {
   "cell_type": "code",
   "execution_count": 17,
   "metadata": {},
   "outputs": [],
   "source": [
    "#Defino todos los coeficientes del sistema\n",
    "#que conforman a la matriz A\n",
    "from sympy.abc import s # Variable laplace \n",
    "a,b,c,d= sympy.symbols(\"a,b,c,d\")\n",
    "\n",
    "A = sympy.Matrix([[a,b],[c,d]])\n",
    "B = sympy.Matrix([[0],[1]])\n",
    "# No se bien porque sympy arma a C como una matrix de 3x1\n",
    "# Si la transpongo la convierte en una fila y queda bien representado\n",
    "# El sistema\n",
    "C = sympy.Matrix([1,0]).T"
   ]
  },
  {
   "cell_type": "markdown",
   "metadata": {},
   "source": [
    "\n",
    "El calculo de la funcion de transferencia se hace a través de la formula:\n",
    "$$\n",
    " H(s) = C{(sI - A)^{-1}}B + D\n",
    "$$\n"
   ]
  },
  {
   "cell_type": "code",
   "execution_count": 18,
   "metadata": {},
   "outputs": [],
   "source": [
    "#A es siempre cuadrada, por eso puedo agarrar las rows o las columns\n",
    "#indistintamente para saber la dimension de la diagonal\n",
    "temp = s * sympy.eye(A.shape[0]) - A\n",
    "inv = temp.inv()"
   ]
  },
  {
   "cell_type": "code",
   "execution_count": 39,
   "metadata": {},
   "outputs": [
    {
     "data": {
      "text/latex": [
       "$\\displaystyle \\frac{b}{a d - a s - b c - d s + s^{2}}$"
      ],
      "text/plain": [
       "TransferFunction(b, a*d - a*s - b*c - d*s + s**2, s)"
      ]
     },
     "execution_count": 39,
     "metadata": {},
     "output_type": "execute_result"
    }
   ],
   "source": [
    "temp = C * inv \n",
    "H = temp * B\n",
    "transfer_function = H[0]\n",
    "n,d = sympy.fraction(sympy.factor(transfer_function))\n",
    "\n",
    "##This is useful for jordan form\n",
    "tf_expr = n/d\n",
    "\n",
    "from sympy.physics.control.lti import TransferFunction\n",
    "# Si bien, el calculo ya fue realizado, y transfer_function tiene\n",
    "# la forma de la funcion de transferencia, para la libreria \n",
    "# no es mas que una expresion mas. \n",
    "# Al usar la clase TransferFuncion podemos despues acceder a metodos\n",
    "# utiles para operar (como puede ser el calculo de polos)\n",
    "tf = TransferFunction(n,d,s)\n",
    "tf"
   ]
  },
  {
   "cell_type": "code",
   "execution_count": 20,
   "metadata": {},
   "outputs": [
    {
     "name": "stdout",
     "output_type": "stream",
     "text": [
      "['s**2', 'a*d', '-a*s', '-b*c', '-d*s']\n"
     ]
    }
   ],
   "source": [
    "import functools \n",
    "\n",
    "den_args_str = [str(x) for x in d.args]\n",
    "print(den_args_str)\n",
    "pow2 = [x for x in den_args_str if \"s**2\" in x]\n",
    "pow1 = [x for x in den_args_str if \"*s\" in x and x not in pow2] #Son los terminos que tienen s ^ 1\n",
    "tail_terms = [x for x in den_args_str if x not in pow1 and x not in pow2] # Son los terminos sin s\n",
    " \n",
    "\n",
    "# Armo las expresiones que despues se introducen en la matriz A \n",
    "# concatenando los valores de pow1 y tail_terms\n",
    "pow1_expr =sympy.factor(sympy.parse_expr(functools.reduce(lambda a,b: a + b, pow1), evaluate=False))\n",
    "tail_terms_expr = sympy.factor(sympy.parse_expr(functools.reduce(lambda a,b: a + b, tail_terms), evaluate=False))\n",
    "\n",
    "# Elimino las variable de la expresion, ya que solo me interesa\n",
    "# quedrme con los factores que multiplican a la variable\n",
    "def sanitize_expr_str(e):\n",
    "    start = e.find(\"s\")\n",
    "    if start == -1:\n",
    "        return e \n",
    "    return e.replace(e[start:start+2:1], \"\")\n",
    "\n",
    "# Estos van a ir a la matiz a en la ultima fila\n",
    "a_0 = sympy.parse_expr(sanitize_expr_str(str(tail_terms_expr)), evaluate=False)\n",
    "a_1 =sympy.parse_expr(sanitize_expr_str(str(pow1_expr)), evaluate=False)\n",
    "\n"
   ]
  },
  {
   "cell_type": "markdown",
   "metadata": {},
   "source": [
    "### Forma de control\n",
    "Es deducida directamente desde los terminos de la funcion\n"
   ]
  },
  {
   "cell_type": "code",
   "execution_count": 21,
   "metadata": {},
   "outputs": [],
   "source": [
    "\n",
    "\n",
    "A_ctrl = sympy.Matrix([[0,1], [a_0, a_1]])\n",
    "B_ctrl = sympy.Matrix([[0], [1]])\n",
    "C_ctrl = sympy.Matrix([n,0]).T"
   ]
  },
  {
   "cell_type": "code",
   "execution_count": 22,
   "metadata": {},
   "outputs": [
    {
     "data": {
      "text/latex": [
       "$\\displaystyle \\left[\\begin{matrix}0 & 1\\\\a d - b c & - a - d\\end{matrix}\\right]$"
      ],
      "text/plain": [
       "Matrix([\n",
       "[        0,      1],\n",
       "[a*d - b*c, -a - d]])"
      ]
     },
     "execution_count": 22,
     "metadata": {},
     "output_type": "execute_result"
    }
   ],
   "source": [
    "A_ctrl"
   ]
  },
  {
   "cell_type": "code",
   "execution_count": 23,
   "metadata": {},
   "outputs": [
    {
     "data": {
      "text/latex": [
       "$\\displaystyle \\left[\\begin{matrix}0\\\\1\\end{matrix}\\right]$"
      ],
      "text/plain": [
       "Matrix([\n",
       "[0],\n",
       "[1]])"
      ]
     },
     "execution_count": 23,
     "metadata": {},
     "output_type": "execute_result"
    }
   ],
   "source": [
    "B_ctrl"
   ]
  },
  {
   "cell_type": "code",
   "execution_count": 24,
   "metadata": {},
   "outputs": [
    {
     "data": {
      "text/latex": [
       "$\\displaystyle \\left[\\begin{matrix}b & 0\\end{matrix}\\right]$"
      ],
      "text/plain": [
       "Matrix([[b, 0]])"
      ]
     },
     "execution_count": 24,
     "metadata": {},
     "output_type": "execute_result"
    }
   ],
   "source": [
    "C_ctrl"
   ]
  },
  {
   "cell_type": "markdown",
   "metadata": {},
   "source": [
    "## Forma observable\n",
    "Transponemos el A de control e intercambiamos B y C de control"
   ]
  },
  {
   "cell_type": "code",
   "execution_count": 25,
   "metadata": {},
   "outputs": [],
   "source": [
    "\n",
    "import copy\n",
    "\n",
    "A_obs = copy.deepcopy(A_ctrl).T\n",
    "B_obs = copy.deepcopy(C_ctrl)\n",
    "C_obs = copy.deepcopy(B_ctrl).T\n"
   ]
  },
  {
   "cell_type": "code",
   "execution_count": 26,
   "metadata": {},
   "outputs": [
    {
     "data": {
      "text/latex": [
       "$\\displaystyle \\left[\\begin{matrix}0 & a d - b c\\\\1 & - a - d\\end{matrix}\\right]$"
      ],
      "text/plain": [
       "Matrix([\n",
       "[0, a*d - b*c],\n",
       "[1,    -a - d]])"
      ]
     },
     "execution_count": 26,
     "metadata": {},
     "output_type": "execute_result"
    }
   ],
   "source": [
    "A_obs"
   ]
  },
  {
   "cell_type": "code",
   "execution_count": 27,
   "metadata": {},
   "outputs": [
    {
     "data": {
      "text/latex": [
       "$\\displaystyle \\left[\\begin{matrix}b & 0\\end{matrix}\\right]$"
      ],
      "text/plain": [
       "Matrix([[b, 0]])"
      ]
     },
     "execution_count": 27,
     "metadata": {},
     "output_type": "execute_result"
    }
   ],
   "source": [
    "B_obs"
   ]
  },
  {
   "cell_type": "code",
   "execution_count": 28,
   "metadata": {},
   "outputs": [
    {
     "data": {
      "text/latex": [
       "$\\displaystyle \\left[\\begin{matrix}0 & 1\\end{matrix}\\right]$"
      ],
      "text/plain": [
       "Matrix([[0, 1]])"
      ]
     },
     "execution_count": 28,
     "metadata": {},
     "output_type": "execute_result"
    }
   ],
   "source": [
    "C_obs"
   ]
  },
  {
   "cell_type": "code",
   "execution_count": 30,
   "metadata": {},
   "outputs": [
    {
     "data": {
      "text/plain": [
       "[a/2 + d/2 - sqrt(a**2 - 2*a*d + 4*b*c + d**2)/2,\n",
       " a/2 + d/2 + sqrt(a**2 - 2*a*d + 4*b*c + d**2)/2]"
      ]
     },
     "execution_count": 30,
     "metadata": {},
     "output_type": "execute_result"
    }
   ],
   "source": [
    "tf_poles = tf.poles()\n"
   ]
  },
  {
   "cell_type": "code",
   "execution_count": 31,
   "metadata": {},
   "outputs": [
    {
     "data": {
      "text/latex": [
       "$\\displaystyle \\frac{a}{2} + \\frac{d}{2} - \\frac{\\sqrt{a^{2} - 2 a d + 4 b c + d^{2}}}{2}$"
      ],
      "text/plain": [
       "a/2 + d/2 - sqrt(a**2 - 2*a*d + 4*b*c + d**2)/2"
      ]
     },
     "execution_count": 31,
     "metadata": {},
     "output_type": "execute_result"
    }
   ],
   "source": [
    "tf_poles[0]\n"
   ]
  },
  {
   "cell_type": "code",
   "execution_count": 32,
   "metadata": {},
   "outputs": [
    {
     "data": {
      "text/latex": [
       "$\\displaystyle \\frac{a}{2} + \\frac{d}{2} + \\frac{\\sqrt{a^{2} - 2 a d + 4 b c + d^{2}}}{2}$"
      ],
      "text/plain": [
       "a/2 + d/2 + sqrt(a**2 - 2*a*d + 4*b*c + d**2)/2"
      ]
     },
     "execution_count": 32,
     "metadata": {},
     "output_type": "execute_result"
    }
   ],
   "source": [
    "tf_poles[1]\n"
   ]
  },
  {
   "cell_type": "markdown",
   "metadata": {},
   "source": [
    "## Forma de Jordan"
   ]
  },
  {
   "cell_type": "code",
   "execution_count": 34,
   "metadata": {},
   "outputs": [
    {
     "data": {
      "text/latex": [
       "$\\displaystyle \\left[\\begin{matrix}\\frac{a}{2} + \\frac{d}{2} - \\frac{\\sqrt{a^{2} - 2 a d + 4 b c + d^{2}}}{2} & 0\\\\0 & \\frac{a}{2} + \\frac{d}{2} + \\frac{\\sqrt{a^{2} - 2 a d + 4 b c + d^{2}}}{2}\\end{matrix}\\right]$"
      ],
      "text/plain": [
       "Matrix([\n",
       "[a/2 + d/2 - sqrt(a**2 - 2*a*d + 4*b*c + d**2)/2,                                               0],\n",
       "[                                              0, a/2 + d/2 + sqrt(a**2 - 2*a*d + 4*b*c + d**2)/2]])"
      ]
     },
     "execution_count": 34,
     "metadata": {},
     "output_type": "execute_result"
    }
   ],
   "source": [
    "## Para esta forma de jordan, vamos a asumir que hay todos polos reales y distintos \n",
    "## A la hora de definir valores para todos los parametros, podemos concluir\n",
    "## si hace falta modificarlo \n",
    "A_jordan = sympy.Matrix([[tf_poles[0], 0], [0,tf_poles[1]]])\n",
    "A_jordan"
   ]
  },
  {
   "cell_type": "code",
   "execution_count": 54,
   "metadata": {},
   "outputs": [
    {
     "data": {
      "text/latex": [
       "$\\displaystyle \\left[\\begin{matrix}1\\\\1\\end{matrix}\\right]$"
      ],
      "text/plain": [
       "Matrix([\n",
       "[1],\n",
       "[1]])"
      ]
     },
     "execution_count": 54,
     "metadata": {},
     "output_type": "execute_result"
    }
   ],
   "source": [
    "B_jordan = sympy.ones(len(tf_poles),1)\n",
    "B_jordan"
   ]
  },
  {
   "cell_type": "code",
   "execution_count": 50,
   "metadata": {},
   "outputs": [
    {
     "data": {
      "text/plain": [
       "[-b/sqrt(a**2 - 2*a*d + 4*b*c + d**2), b/sqrt(a**2 - 2*a*d + 4*b*c + d**2)]"
      ]
     },
     "execution_count": 50,
     "metadata": {},
     "output_type": "execute_result"
    }
   ],
   "source": [
    "#residue calcula el residuo de las fracciones parciales para la funcion\n",
    "#de transferencia\n",
    "C_jordan = [sympy.residue(tf_expr, s, tf_poles[0]), sympy.residue(tf_expr, s, tf_poles[1])]\n",
    "C_jordan"
   ]
  }
 ],
 "metadata": {
  "kernelspec": {
   "display_name": "Python 3",
   "language": "python",
   "name": "python3"
  },
  "language_info": {
   "codemirror_mode": {
    "name": "ipython",
    "version": 3
   },
   "file_extension": ".py",
   "mimetype": "text/x-python",
   "name": "python",
   "nbconvert_exporter": "python",
   "pygments_lexer": "ipython3",
   "version": "3.8.10"
  },
  "orig_nbformat": 4
 },
 "nbformat": 4,
 "nbformat_minor": 2
}
