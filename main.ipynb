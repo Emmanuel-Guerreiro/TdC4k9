{
 "cells": [
  {
   "cell_type": "code",
   "execution_count": 1,
   "metadata": {},
   "outputs": [],
   "source": [
    "import sympy"
   ]
  },
  {
   "cell_type": "code",
   "execution_count": 12,
   "metadata": {},
   "outputs": [],
   "source": [
    "#Defino todos los coeficientes del sistema\n",
    "#que conforman a la matriz A\n",
    "a,b,c,d,e,f,g,h,i = sympy.symbols(\"a,b,c,d,e,f,g,h,i\")\n",
    "#La variable de laplace\n",
    "s = sympy.symbols(\"s\")\n",
    "#Las 3 matrices que representan al sistema en forma \n",
    "#de control\n",
    "A = sympy.Matrix([[a,b,c], [d,e,f], [g,h,i]])\n",
    "B = sympy.Matrix([[0],[0],[1]])\n",
    "# No se bien porque sympy arma a C como una matrix de 3x1\n",
    "# Si la transpongo la convierte en una fila y queda bien representado\n",
    "# El sistema\n",
    "C = sympy.Matrix([1,0,0]).T"
   ]
  },
  {
   "cell_type": "markdown",
   "metadata": {},
   "source": [
    "## Calculo de la funcion de transferencia.\n",
    "Partiendo de la representacion de la forma de control, \n",
    "especificada arriba, vamos a proceder a calcular la funcion de \n",
    "transferencia basado en la forma matricial\n",
    "\n",
    "```H(s) = C (sI - A)**-1 B + D```\n"
   ]
  },
  {
   "cell_type": "code",
   "execution_count": 14,
   "metadata": {},
   "outputs": [],
   "source": [
    "# H(s) = C (sI - A)**-1 B + D\n",
    "temp = s * sympy.eye(3) - A\n",
    "inv = temp.inv()"
   ]
  },
  {
   "cell_type": "code",
   "execution_count": 17,
   "metadata": {},
   "outputs": [
    {
     "name": "stdout",
     "output_type": "stream",
     "text": [
      "Matrix([[(b*f - c*e + c*s)/(-a*e*i + a*e*s + a*f*h + a*i*s - a*s**2 + b*d*i - b*d*s - b*f*g - c*d*h + c*e*g - c*g*s + e*i*s - e*s**2 - f*h*s - i*s**2 + s**3)]])\n"
     ]
    }
   ],
   "source": [
    "temp = C * inv \n",
    "H = temp * B\n",
    "\n",
    "print(H)"
   ]
  },
  {
   "cell_type": "code",
   "execution_count": 11,
   "metadata": {},
   "outputs": [
    {
     "data": {
      "text/latex": [
       "$\\displaystyle x^{2}$"
      ],
      "text/plain": [
       "x**2"
      ]
     },
     "execution_count": 11,
     "metadata": {},
     "output_type": "execute_result"
    }
   ],
   "source": [
    "x = sympy.symbols(\"x\")\n",
    "x *x\n",
    "\n",
    "(b*f - c*e + c*s)/(-a*e*i + a*e*s + a*f*h + a*i*s - a*s**2 + b*d*i - b*d*s - b*f*g - c*d*h + c*e*g - c*g*s + e*i*s - e*s**2 - f*h*s - i*s**2 + s**3)"
   ]
  }
 ],
 "metadata": {
  "kernelspec": {
   "display_name": "Python 3",
   "language": "python",
   "name": "python3"
  },
  "language_info": {
   "codemirror_mode": {
    "name": "ipython",
    "version": 3
   },
   "file_extension": ".py",
   "mimetype": "text/x-python",
   "name": "python",
   "nbconvert_exporter": "python",
   "pygments_lexer": "ipython3",
   "version": "3.8.10"
  },
  "orig_nbformat": 4
 },
 "nbformat": 4,
 "nbformat_minor": 2
}
