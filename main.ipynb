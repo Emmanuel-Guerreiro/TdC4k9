{
 "cells": [
  {
   "cell_type": "code",
   "execution_count": 1,
   "metadata": {},
   "outputs": [],
   "source": [
    "import sympy"
   ]
  },
  {
   "cell_type": "code",
   "execution_count": 2,
   "metadata": {},
   "outputs": [],
   "source": [
    "#Defino todos los coeficientes del sistema\n",
    "#que conforman a la matriz A\n",
    "a,b,c,d,e,f,g,h,i = sympy.symbols(\"a,b,c,d,e,f,g,h,i\")\n",
    "from sympy.abc import s\n",
    "\n",
    "#La variable de laplace\n",
    "# s = sympy.symbols(\"s\")\n",
    "#Las 3 matrices que representan al sistema en forma \n",
    "#de control\n",
    "A = sympy.Matrix([[a,b,c], [d,e,f], [g,h,i]])\n",
    "B = sympy.Matrix([[0],[0],[1]])\n",
    "# No se bien porque sympy arma a C como una matrix de 3x1\n",
    "# Si la transpongo la convierte en una fila y queda bien representado\n",
    "# El sistema\n",
    "C = sympy.Matrix([1,0,0]).T"
   ]
  },
  {
   "cell_type": "markdown",
   "metadata": {},
   "source": [
    "```H(s) = C (sI - A)**-1 B + D```"
   ]
  },
  {
   "cell_type": "code",
   "execution_count": 3,
   "metadata": {},
   "outputs": [],
   "source": [
    "\n",
    "temp = s * sympy.eye(3) - A\n",
    "inv = temp.inv()"
   ]
  },
  {
   "cell_type": "code",
   "execution_count": 4,
   "metadata": {},
   "outputs": [
    {
     "name": "stdout",
     "output_type": "stream",
     "text": [
      "(b*f - c*e + c*s)/(-a*e*i + a*e*s + a*f*h + a*i*s - a*s**2 + b*d*i - b*d*s - b*f*g - c*d*h + c*e*g - c*g*s + e*i*s - e*s**2 - f*h*s - i*s**2 + s**3)\n"
     ]
    }
   ],
   "source": [
    "temp = C * inv \n",
    "H = temp * B\n",
    "\n",
    "\n",
    "transfer_function = H[0]\n",
    "print(transfer_function)\n"
   ]
  },
  {
   "cell_type": "markdown",
   "metadata": {},
   "source": [
    "## Forma de control\n",
    "### Es deducida directamente desde los terminos de la funcion\n"
   ]
  },
  {
   "cell_type": "code",
   "execution_count": 5,
   "metadata": {},
   "outputs": [],
   "source": [
    "\n",
    "\n",
    "A_ctrl = sympy.Matrix([[0,1,0], [0,0,1], [b*d*i-b*f*g-c*d*h+c*e*g, a*e+a*i-b*d+c*g+e*i,a+e+i]])\n",
    "B_ctrl = sympy.Matrix([[0], [0], [1]])\n",
    "C_ctrl = sympy.Matrix([b*f-c*e,c,0]).T"
   ]
  },
  {
   "cell_type": "code",
   "execution_count": 6,
   "metadata": {},
   "outputs": [
    {
     "data": {
      "text/latex": [
       "$\\displaystyle \\left[\\begin{matrix}0 & 1 & 0\\\\0 & 0 & 1\\\\b d i - b f g - c d h + c e g & a e + a i - b d + c g + e i & a + e + i\\end{matrix}\\right]$"
      ],
      "text/plain": [
       "Matrix([\n",
       "[                            0,                           1,         0],\n",
       "[                            0,                           0,         1],\n",
       "[b*d*i - b*f*g - c*d*h + c*e*g, a*e + a*i - b*d + c*g + e*i, a + e + i]])"
      ]
     },
     "execution_count": 6,
     "metadata": {},
     "output_type": "execute_result"
    }
   ],
   "source": [
    "A_ctrl"
   ]
  },
  {
   "cell_type": "code",
   "execution_count": 7,
   "metadata": {},
   "outputs": [
    {
     "data": {
      "text/latex": [
       "$\\displaystyle \\left[\\begin{matrix}0\\\\0\\\\1\\end{matrix}\\right]$"
      ],
      "text/plain": [
       "Matrix([\n",
       "[0],\n",
       "[0],\n",
       "[1]])"
      ]
     },
     "execution_count": 7,
     "metadata": {},
     "output_type": "execute_result"
    }
   ],
   "source": [
    "B_ctrl"
   ]
  },
  {
   "cell_type": "code",
   "execution_count": 8,
   "metadata": {},
   "outputs": [
    {
     "data": {
      "text/latex": [
       "$\\displaystyle \\left[\\begin{matrix}b f - c e & c & 0\\end{matrix}\\right]$"
      ],
      "text/plain": [
       "Matrix([[b*f - c*e, c, 0]])"
      ]
     },
     "execution_count": 8,
     "metadata": {},
     "output_type": "execute_result"
    }
   ],
   "source": [
    "C_ctrl"
   ]
  },
  {
   "cell_type": "markdown",
   "metadata": {},
   "source": [
    "## Forma observable\n",
    "# Transponemos el A de control e intercambiamos B y C de control"
   ]
  },
  {
   "cell_type": "code",
   "execution_count": 9,
   "metadata": {},
   "outputs": [],
   "source": [
    "\n",
    "import copy\n",
    "\n",
    "A_obs = copy.deepcopy(A_ctrl).T\n",
    "B_obs = copy.deepcopy(C_ctrl)\n",
    "C_obs = copy.deepcopy(B_ctrl).T\n"
   ]
  },
  {
   "cell_type": "code",
   "execution_count": 10,
   "metadata": {},
   "outputs": [
    {
     "data": {
      "text/latex": [
       "$\\displaystyle \\left[\\begin{matrix}0 & 0 & b d i - b f g - c d h + c e g\\\\1 & 0 & a e + a i - b d + c g + e i\\\\0 & 1 & a + e + i\\end{matrix}\\right]$"
      ],
      "text/plain": [
       "Matrix([\n",
       "[0, 0, b*d*i - b*f*g - c*d*h + c*e*g],\n",
       "[1, 0,   a*e + a*i - b*d + c*g + e*i],\n",
       "[0, 1,                     a + e + i]])"
      ]
     },
     "execution_count": 10,
     "metadata": {},
     "output_type": "execute_result"
    }
   ],
   "source": [
    "A_obs"
   ]
  },
  {
   "cell_type": "code",
   "execution_count": 11,
   "metadata": {},
   "outputs": [
    {
     "data": {
      "text/latex": [
       "$\\displaystyle \\left[\\begin{matrix}b f - c e & c & 0\\end{matrix}\\right]$"
      ],
      "text/plain": [
       "Matrix([[b*f - c*e, c, 0]])"
      ]
     },
     "execution_count": 11,
     "metadata": {},
     "output_type": "execute_result"
    }
   ],
   "source": [
    "B_obs"
   ]
  },
  {
   "cell_type": "code",
   "execution_count": 12,
   "metadata": {},
   "outputs": [
    {
     "data": {
      "text/latex": [
       "$\\displaystyle \\left[\\begin{matrix}0 & 0 & 1\\end{matrix}\\right]$"
      ],
      "text/plain": [
       "Matrix([[0, 0, 1]])"
      ]
     },
     "execution_count": 12,
     "metadata": {},
     "output_type": "execute_result"
    }
   ],
   "source": [
    "C_obs"
   ]
  },
  {
   "cell_type": "code",
   "execution_count": 20,
   "metadata": {},
   "outputs": [
    {
     "data": {
      "text/latex": [
       "$\\displaystyle \\frac{b f - c e + c s}{- a e i + a e s + a f h + a i s - a s^{2} + b d i - b d s - b f g - c d h + c e g - c g s + e i s - e s^{2} - f h s - i s^{2} + s^{3}}$"
      ],
      "text/plain": [
       "TransferFunction(b*f - c*e + c*s, -a*e*i + a*e*s + a*f*h + a*i*s - a*s**2 + b*d*i - b*d*s - b*f*g - c*d*h + c*e*g - c*g*s + e*i*s - e*s**2 - f*h*s - i*s**2 + s**3, s)"
      ]
     },
     "execution_count": 20,
     "metadata": {},
     "output_type": "execute_result"
    }
   ],
   "source": [
    "## Obtenemos los polos de la funcion de transferencia\n",
    "from sympy.physics.control.lti import TransferFunction\n",
    "n,d = sympy.fraction(sympy.factor(transfer_function))\n",
    "\n",
    "tf = TransferFunction(n,d,s)\n",
    "tf"
   ]
  },
  {
   "cell_type": "code",
   "execution_count": 22,
   "metadata": {},
   "outputs": [],
   "source": [
    "tf_poles = tf.poles()"
   ]
  },
  {
   "cell_type": "code",
   "execution_count": 14,
   "metadata": {},
   "outputs": [
    {
     "data": {
      "text/latex": [
       "$\\displaystyle \\frac{a}{3} + \\frac{e}{3} + \\frac{i}{3} - \\frac{- 3 a e - 3 a i + 3 b d + 3 c g - 3 e i + 3 f h + \\left(- a - e - i\\right)^{2}}{3 \\sqrt[3]{- \\frac{27 a e i}{2} + \\frac{27 a f h}{2} + \\frac{27 b d i}{2} - \\frac{27 b f g}{2} - \\frac{27 c d h}{2} + \\frac{27 c e g}{2} + \\frac{\\sqrt{- 4 \\left(- 3 a e - 3 a i + 3 b d + 3 c g - 3 e i + 3 f h + \\left(- a - e - i\\right)^{2}\\right)^{3} + \\left(- 27 a e i + 27 a f h + 27 b d i - 27 b f g - 27 c d h + 27 c e g - \\left(- 9 a - 9 e - 9 i\\right) \\left(a e + a i - b d - c g + e i - f h\\right) + 2 \\left(- a - e - i\\right)^{3}\\right)^{2}}}{2} - \\frac{\\left(- 9 a - 9 e - 9 i\\right) \\left(a e + a i - b d - c g + e i - f h\\right)}{2} + \\left(- a - e - i\\right)^{3}}} - \\frac{\\sqrt[3]{- \\frac{27 a e i}{2} + \\frac{27 a f h}{2} + \\frac{27 b d i}{2} - \\frac{27 b f g}{2} - \\frac{27 c d h}{2} + \\frac{27 c e g}{2} + \\frac{\\sqrt{- 4 \\left(- 3 a e - 3 a i + 3 b d + 3 c g - 3 e i + 3 f h + \\left(- a - e - i\\right)^{2}\\right)^{3} + \\left(- 27 a e i + 27 a f h + 27 b d i - 27 b f g - 27 c d h + 27 c e g - \\left(- 9 a - 9 e - 9 i\\right) \\left(a e + a i - b d - c g + e i - f h\\right) + 2 \\left(- a - e - i\\right)^{3}\\right)^{2}}}{2} - \\frac{\\left(- 9 a - 9 e - 9 i\\right) \\left(a e + a i - b d - c g + e i - f h\\right)}{2} + \\left(- a - e - i\\right)^{3}}}{3}$"
      ],
      "text/plain": [
       "a/3 + e/3 + i/3 - (-3*a*e - 3*a*i + 3*b*d + 3*c*g - 3*e*i + 3*f*h + (-a - e - i)**2)/(3*(-27*a*e*i/2 + 27*a*f*h/2 + 27*b*d*i/2 - 27*b*f*g/2 - 27*c*d*h/2 + 27*c*e*g/2 + sqrt(-4*(-3*a*e - 3*a*i + 3*b*d + 3*c*g - 3*e*i + 3*f*h + (-a - e - i)**2)**3 + (-27*a*e*i + 27*a*f*h + 27*b*d*i - 27*b*f*g - 27*c*d*h + 27*c*e*g - (-9*a - 9*e - 9*i)*(a*e + a*i - b*d - c*g + e*i - f*h) + 2*(-a - e - i)**3)**2)/2 - (-9*a - 9*e - 9*i)*(a*e + a*i - b*d - c*g + e*i - f*h)/2 + (-a - e - i)**3)**(1/3)) - (-27*a*e*i/2 + 27*a*f*h/2 + 27*b*d*i/2 - 27*b*f*g/2 - 27*c*d*h/2 + 27*c*e*g/2 + sqrt(-4*(-3*a*e - 3*a*i + 3*b*d + 3*c*g - 3*e*i + 3*f*h + (-a - e - i)**2)**3 + (-27*a*e*i + 27*a*f*h + 27*b*d*i - 27*b*f*g - 27*c*d*h + 27*c*e*g - (-9*a - 9*e - 9*i)*(a*e + a*i - b*d - c*g + e*i - f*h) + 2*(-a - e - i)**3)**2)/2 - (-9*a - 9*e - 9*i)*(a*e + a*i - b*d - c*g + e*i - f*h)/2 + (-a - e - i)**3)**(1/3)/3"
      ]
     },
     "execution_count": 14,
     "metadata": {},
     "output_type": "execute_result"
    }
   ],
   "source": [
    "tf_poles[0]\n"
   ]
  },
  {
   "cell_type": "code",
   "execution_count": 15,
   "metadata": {},
   "outputs": [
    {
     "data": {
      "text/latex": [
       "$\\displaystyle \\frac{a}{3} + \\frac{e}{3} + \\frac{i}{3} - \\frac{- 3 a e - 3 a i + 3 b d + 3 c g - 3 e i + 3 f h + \\left(- a - e - i\\right)^{2}}{3 \\left(- \\frac{1}{2} - \\frac{\\sqrt{3} i}{2}\\right) \\sqrt[3]{- \\frac{27 a e i}{2} + \\frac{27 a f h}{2} + \\frac{27 b d i}{2} - \\frac{27 b f g}{2} - \\frac{27 c d h}{2} + \\frac{27 c e g}{2} + \\frac{\\sqrt{- 4 \\left(- 3 a e - 3 a i + 3 b d + 3 c g - 3 e i + 3 f h + \\left(- a - e - i\\right)^{2}\\right)^{3} + \\left(- 27 a e i + 27 a f h + 27 b d i - 27 b f g - 27 c d h + 27 c e g - \\left(- 9 a - 9 e - 9 i\\right) \\left(a e + a i - b d - c g + e i - f h\\right) + 2 \\left(- a - e - i\\right)^{3}\\right)^{2}}}{2} - \\frac{\\left(- 9 a - 9 e - 9 i\\right) \\left(a e + a i - b d - c g + e i - f h\\right)}{2} + \\left(- a - e - i\\right)^{3}}} - \\frac{\\left(- \\frac{1}{2} - \\frac{\\sqrt{3} i}{2}\\right) \\sqrt[3]{- \\frac{27 a e i}{2} + \\frac{27 a f h}{2} + \\frac{27 b d i}{2} - \\frac{27 b f g}{2} - \\frac{27 c d h}{2} + \\frac{27 c e g}{2} + \\frac{\\sqrt{- 4 \\left(- 3 a e - 3 a i + 3 b d + 3 c g - 3 e i + 3 f h + \\left(- a - e - i\\right)^{2}\\right)^{3} + \\left(- 27 a e i + 27 a f h + 27 b d i - 27 b f g - 27 c d h + 27 c e g - \\left(- 9 a - 9 e - 9 i\\right) \\left(a e + a i - b d - c g + e i - f h\\right) + 2 \\left(- a - e - i\\right)^{3}\\right)^{2}}}{2} - \\frac{\\left(- 9 a - 9 e - 9 i\\right) \\left(a e + a i - b d - c g + e i - f h\\right)}{2} + \\left(- a - e - i\\right)^{3}}}{3}$"
      ],
      "text/plain": [
       "a/3 + e/3 + i/3 - (-3*a*e - 3*a*i + 3*b*d + 3*c*g - 3*e*i + 3*f*h + (-a - e - i)**2)/(3*(-1/2 - sqrt(3)*I/2)*(-27*a*e*i/2 + 27*a*f*h/2 + 27*b*d*i/2 - 27*b*f*g/2 - 27*c*d*h/2 + 27*c*e*g/2 + sqrt(-4*(-3*a*e - 3*a*i + 3*b*d + 3*c*g - 3*e*i + 3*f*h + (-a - e - i)**2)**3 + (-27*a*e*i + 27*a*f*h + 27*b*d*i - 27*b*f*g - 27*c*d*h + 27*c*e*g - (-9*a - 9*e - 9*i)*(a*e + a*i - b*d - c*g + e*i - f*h) + 2*(-a - e - i)**3)**2)/2 - (-9*a - 9*e - 9*i)*(a*e + a*i - b*d - c*g + e*i - f*h)/2 + (-a - e - i)**3)**(1/3)) - (-1/2 - sqrt(3)*I/2)*(-27*a*e*i/2 + 27*a*f*h/2 + 27*b*d*i/2 - 27*b*f*g/2 - 27*c*d*h/2 + 27*c*e*g/2 + sqrt(-4*(-3*a*e - 3*a*i + 3*b*d + 3*c*g - 3*e*i + 3*f*h + (-a - e - i)**2)**3 + (-27*a*e*i + 27*a*f*h + 27*b*d*i - 27*b*f*g - 27*c*d*h + 27*c*e*g - (-9*a - 9*e - 9*i)*(a*e + a*i - b*d - c*g + e*i - f*h) + 2*(-a - e - i)**3)**2)/2 - (-9*a - 9*e - 9*i)*(a*e + a*i - b*d - c*g + e*i - f*h)/2 + (-a - e - i)**3)**(1/3)/3"
      ]
     },
     "execution_count": 15,
     "metadata": {},
     "output_type": "execute_result"
    }
   ],
   "source": [
    "tf_poles[1]\n"
   ]
  },
  {
   "cell_type": "code",
   "execution_count": 16,
   "metadata": {},
   "outputs": [
    {
     "data": {
      "text/latex": [
       "$\\displaystyle \\frac{a}{3} + \\frac{e}{3} + \\frac{i}{3} - \\frac{- 3 a e - 3 a i + 3 b d + 3 c g - 3 e i + 3 f h + \\left(- a - e - i\\right)^{2}}{3 \\left(- \\frac{1}{2} + \\frac{\\sqrt{3} i}{2}\\right) \\sqrt[3]{- \\frac{27 a e i}{2} + \\frac{27 a f h}{2} + \\frac{27 b d i}{2} - \\frac{27 b f g}{2} - \\frac{27 c d h}{2} + \\frac{27 c e g}{2} + \\frac{\\sqrt{- 4 \\left(- 3 a e - 3 a i + 3 b d + 3 c g - 3 e i + 3 f h + \\left(- a - e - i\\right)^{2}\\right)^{3} + \\left(- 27 a e i + 27 a f h + 27 b d i - 27 b f g - 27 c d h + 27 c e g - \\left(- 9 a - 9 e - 9 i\\right) \\left(a e + a i - b d - c g + e i - f h\\right) + 2 \\left(- a - e - i\\right)^{3}\\right)^{2}}}{2} - \\frac{\\left(- 9 a - 9 e - 9 i\\right) \\left(a e + a i - b d - c g + e i - f h\\right)}{2} + \\left(- a - e - i\\right)^{3}}} - \\frac{\\left(- \\frac{1}{2} + \\frac{\\sqrt{3} i}{2}\\right) \\sqrt[3]{- \\frac{27 a e i}{2} + \\frac{27 a f h}{2} + \\frac{27 b d i}{2} - \\frac{27 b f g}{2} - \\frac{27 c d h}{2} + \\frac{27 c e g}{2} + \\frac{\\sqrt{- 4 \\left(- 3 a e - 3 a i + 3 b d + 3 c g - 3 e i + 3 f h + \\left(- a - e - i\\right)^{2}\\right)^{3} + \\left(- 27 a e i + 27 a f h + 27 b d i - 27 b f g - 27 c d h + 27 c e g - \\left(- 9 a - 9 e - 9 i\\right) \\left(a e + a i - b d - c g + e i - f h\\right) + 2 \\left(- a - e - i\\right)^{3}\\right)^{2}}}{2} - \\frac{\\left(- 9 a - 9 e - 9 i\\right) \\left(a e + a i - b d - c g + e i - f h\\right)}{2} + \\left(- a - e - i\\right)^{3}}}{3}$"
      ],
      "text/plain": [
       "a/3 + e/3 + i/3 - (-3*a*e - 3*a*i + 3*b*d + 3*c*g - 3*e*i + 3*f*h + (-a - e - i)**2)/(3*(-1/2 + sqrt(3)*I/2)*(-27*a*e*i/2 + 27*a*f*h/2 + 27*b*d*i/2 - 27*b*f*g/2 - 27*c*d*h/2 + 27*c*e*g/2 + sqrt(-4*(-3*a*e - 3*a*i + 3*b*d + 3*c*g - 3*e*i + 3*f*h + (-a - e - i)**2)**3 + (-27*a*e*i + 27*a*f*h + 27*b*d*i - 27*b*f*g - 27*c*d*h + 27*c*e*g - (-9*a - 9*e - 9*i)*(a*e + a*i - b*d - c*g + e*i - f*h) + 2*(-a - e - i)**3)**2)/2 - (-9*a - 9*e - 9*i)*(a*e + a*i - b*d - c*g + e*i - f*h)/2 + (-a - e - i)**3)**(1/3)) - (-1/2 + sqrt(3)*I/2)*(-27*a*e*i/2 + 27*a*f*h/2 + 27*b*d*i/2 - 27*b*f*g/2 - 27*c*d*h/2 + 27*c*e*g/2 + sqrt(-4*(-3*a*e - 3*a*i + 3*b*d + 3*c*g - 3*e*i + 3*f*h + (-a - e - i)**2)**3 + (-27*a*e*i + 27*a*f*h + 27*b*d*i - 27*b*f*g - 27*c*d*h + 27*c*e*g - (-9*a - 9*e - 9*i)*(a*e + a*i - b*d - c*g + e*i - f*h) + 2*(-a - e - i)**3)**2)/2 - (-9*a - 9*e - 9*i)*(a*e + a*i - b*d - c*g + e*i - f*h)/2 + (-a - e - i)**3)**(1/3)/3"
      ]
     },
     "execution_count": 16,
     "metadata": {},
     "output_type": "execute_result"
    }
   ],
   "source": [
    "\n",
    "tf_poles[2]"
   ]
  }
 ],
 "metadata": {
  "kernelspec": {
   "display_name": "Python 3",
   "language": "python",
   "name": "python3"
  },
  "language_info": {
   "codemirror_mode": {
    "name": "ipython",
    "version": 3
   },
   "file_extension": ".py",
   "mimetype": "text/x-python",
   "name": "python",
   "nbconvert_exporter": "python",
   "pygments_lexer": "ipython3",
   "version": "3.8.10"
  },
  "orig_nbformat": 4
 },
 "nbformat": 4,
 "nbformat_minor": 2
}
